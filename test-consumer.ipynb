{
 "cells": [
  {
   "cell_type": "code",
   "execution_count": 2,
   "metadata": {},
   "outputs": [],
   "source": [
    "import json"
   ]
  },
  {
   "cell_type": "code",
   "execution_count": 3,
   "metadata": {},
   "outputs": [
    {
     "name": "stdout",
     "output_type": "stream",
     "text": [
      "2023-04-03 11:39:16.142 INFO  [140168496637760] Client:87 | Subscribing on Topic :tr2\n",
      "2023-04-03 11:39:16.142 INFO  [140168496637760] ClientConnection:190 | [<none> -> pulsar://localhost:6650] Create ClientConnection, timeout=10000\n",
      "2023-04-03 11:39:16.142 INFO  [140168496637760] ConnectionPool:97 | Created connection for pulsar://localhost:6650\n",
      "2023-04-03 11:39:16.142 INFO  [140167824086784] ClientConnection:388 | [127.0.0.1:34968 -> 127.0.0.1:6650] Connected to broker\n",
      "2023-04-03 11:39:16.145 INFO  [140167824086784] HandlerBase:72 | [persistent://public/default/tr2, sub2, 0] Getting connection from pool\n",
      "2023-04-03 11:39:16.146 INFO  [140167824086784] ConsumerImpl:238 | [persistent://public/default/tr2, sub2, 0] Created consumer on broker [127.0.0.1:34968 -> 127.0.0.1:6650] \n"
     ]
    }
   ],
   "source": [
    "import pulsar\n",
    "\n",
    "client = pulsar.Client('pulsar://localhost:6650')\n",
    "\n",
    "consumer = client.subscribe('tr2', 'sub2')\n"
   ]
  },
  {
   "cell_type": "code",
   "execution_count": 5,
   "metadata": {},
   "outputs": [
    {
     "ename": "Interrupted",
     "evalue": "Pulsar error: ResultInterrupted",
     "output_type": "error",
     "traceback": [
      "\u001b[0;31m---------------------------------------------------------------------------\u001b[0m",
      "\u001b[0;31mInterrupted\u001b[0m                               Traceback (most recent call last)",
      "Cell \u001b[0;32mIn[5], line 2\u001b[0m\n\u001b[1;32m      1\u001b[0m \u001b[39mwhile\u001b[39;00m \u001b[39mTrue\u001b[39;00m:\n\u001b[0;32m----> 2\u001b[0m     msg \u001b[39m=\u001b[39m consumer\u001b[39m.\u001b[39;49mreceive()\n\u001b[1;32m      3\u001b[0m     \u001b[39mtry\u001b[39;00m:\n\u001b[1;32m      4\u001b[0m         data \u001b[39m=\u001b[39m json\u001b[39m.\u001b[39mloads(msg\u001b[39m.\u001b[39mdata()\u001b[39m.\u001b[39mdecode(\u001b[39m'\u001b[39m\u001b[39mutf-8\u001b[39m\u001b[39m'\u001b[39m))\n",
      "File \u001b[0;32m~/Documents/PULSAR Real Time Fraud Detection/venv-3.8/lib/python3.8/site-packages/pulsar/__init__.py:1243\u001b[0m, in \u001b[0;36mConsumer.receive\u001b[0;34m(self, timeout_millis)\u001b[0m\n\u001b[1;32m   1230\u001b[0m \u001b[39m\u001b[39m\u001b[39m\"\"\"\u001b[39;00m\n\u001b[1;32m   1231\u001b[0m \u001b[39mReceive a single message.\u001b[39;00m\n\u001b[1;32m   1232\u001b[0m \n\u001b[0;32m   (...)\u001b[0m\n\u001b[1;32m   1240\u001b[0m \u001b[39m    If specified, the receiver will raise an exception if a message is not available within the timeout.\u001b[39;00m\n\u001b[1;32m   1241\u001b[0m \u001b[39m\"\"\"\u001b[39;00m\n\u001b[1;32m   1242\u001b[0m \u001b[39mif\u001b[39;00m timeout_millis \u001b[39mis\u001b[39;00m \u001b[39mNone\u001b[39;00m:\n\u001b[0;32m-> 1243\u001b[0m     msg \u001b[39m=\u001b[39m \u001b[39mself\u001b[39;49m\u001b[39m.\u001b[39;49m_consumer\u001b[39m.\u001b[39;49mreceive()\n\u001b[1;32m   1244\u001b[0m \u001b[39melse\u001b[39;00m:\n\u001b[1;32m   1245\u001b[0m     _check_type(\u001b[39mint\u001b[39m, timeout_millis, \u001b[39m'\u001b[39m\u001b[39mtimeout_millis\u001b[39m\u001b[39m'\u001b[39m)\n",
      "\u001b[0;31mInterrupted\u001b[0m: Pulsar error: ResultInterrupted"
     ]
    }
   ],
   "source": [
    "\n",
    "while True:\n",
    "    msg = consumer.receive()\n",
    "    try:\n",
    "        data = json.loads(msg.data().decode('utf-8'))\n",
    "        print(data)\n",
    "        print(type(data))\n",
    "        # consumer.acknowledge(msg)\n",
    "    except Exception:\n",
    "        # Message failed to be processed\n",
    "        # consumer.negative_acknowledge(msg)\n",
    "        pass\n",
    "\n",
    "client.close()"
   ]
  },
  {
   "cell_type": "code",
   "execution_count": 6,
   "metadata": {},
   "outputs": [
    {
     "name": "stdout",
     "output_type": "stream",
     "text": [
      "2023-04-03 12:42:34.262 INFO  [140168496637760] ConsumerImpl:1097 | [persistent://public/default/tr2, sub2, 0] Closing consumer for topic persistent://public/default/tr2\n",
      "2023-04-03 12:42:34.263 INFO  [140167824086784] ConsumerImpl:1083 | [persistent://public/default/tr2, sub2, 0] Closed consumer 0\n",
      "2023-04-03 12:42:34.263 INFO  [140168496637760] ClientImpl:516 | Closing Pulsar client with 0 producers and 0 consumers\n",
      "2023-04-03 12:42:34.263 INFO  [140167840872192] ClientConnection:1600 | [127.0.0.1:34968 -> 127.0.0.1:6650] Connection closed with ConnectError\n",
      "2023-04-03 12:42:34.263 INFO  [140167840872192] ClientConnection:269 | [127.0.0.1:34968 -> 127.0.0.1:6650] Destroyed connection\n"
     ]
    }
   ],
   "source": [
    "consumer.close()\n",
    "client.close()"
   ]
  },
  {
   "cell_type": "code",
   "execution_count": null,
   "metadata": {},
   "outputs": [],
   "source": []
  }
 ],
 "metadata": {
  "kernelspec": {
   "display_name": "Python 3 (ipykernel)",
   "language": "python",
   "name": "python3"
  },
  "language_info": {
   "codemirror_mode": {
    "name": "ipython",
    "version": 3
   },
   "file_extension": ".py",
   "mimetype": "text/x-python",
   "name": "python",
   "nbconvert_exporter": "python",
   "pygments_lexer": "ipython3",
   "version": "3.8.10"
  }
 },
 "nbformat": 4,
 "nbformat_minor": 2
}
