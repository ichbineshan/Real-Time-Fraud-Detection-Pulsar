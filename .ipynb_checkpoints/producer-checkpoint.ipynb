{
 "cells": [
  {
   "cell_type": "code",
   "execution_count": 11,
   "metadata": {},
   "outputs": [
    {
     "name": "stdout",
     "output_type": "stream",
     "text": [
      "Requirement already satisfied: pulsar-client==3.1.0 in /home/josh/.local/lib/python3.8/site-packages (3.1.0)\n",
      "Requirement already satisfied: certifi in /home/josh/.local/lib/python3.8/site-packages (from pulsar-client==3.1.0) (2022.12.7)\n",
      "Note: you may need to restart the kernel to use updated packages.\n"
     ]
    }
   ],
   "source": [
    "pip install 'pulsar-client==3.1.0'"
   ]
  },
  {
   "cell_type": "code",
   "execution_count": 12,
   "metadata": {
    "scrolled": true
   },
   "outputs": [
    {
     "name": "stdout",
     "output_type": "stream",
     "text": [
      "2023-03-30 14:58:36.648 INFO  [140591552632640] ClientConnection:190 | [<none> -> pulsar://localhost:6650] Create ClientConnection, timeout=10000\n",
      "2023-03-30 14:58:36.648 INFO  [140591552632640] ConnectionPool:97 | Created connection for pulsar://localhost:6650\n",
      "2023-03-30 14:58:36.648 INFO  [140590953867008] ClientConnection:388 | [127.0.0.1:57312 -> 127.0.0.1:6650] Connected to broker\n",
      "2023-03-30 14:58:36.650 INFO  [140590953867008] HandlerBase:72 | [persistent://public/default/transaction_requests, ] Getting connection from pool\n",
      "2023-03-30 14:58:36.652 INFO  [140590953867008] ProducerImpl:202 | [persistent://public/default/transaction_requests, ] Created producer on broker [127.0.0.1:57312 -> 127.0.0.1:6650] \n",
      "2023-03-30 14:58:36.652 INFO  [140591552632640] ProducerImpl:697 | Producer - [persistent://public/default/transaction_requests, standalone-0-7] , [batching  = off]\n",
      "2023-03-30 14:58:36.652 INFO  [140591552632640] ClientConnection:1600 | [127.0.0.1:52422 -> 127.0.0.1:6650] Connection closed with ConnectError\n",
      "2023-03-30 14:58:36.652 INFO  [140591552632640] ClientConnection:269 | [127.0.0.1:52422 -> 127.0.0.1:6650] Destroyed connection\n"
     ]
    }
   ],
   "source": [
    "import pulsar\n",
    "\n",
    "client = pulsar.Client('pulsar://localhost:6650')\n",
    "\n",
    "producer = client.create_producer('transaction_requests')\n"
   ]
  },
  {
   "cell_type": "code",
   "execution_count": 13,
   "metadata": {},
   "outputs": [],
   "source": [
    "import pandas as pd\n",
    "from time import sleep\n",
    "from json import dumps\n",
    "import json\n"
   ]
  },
  {
   "cell_type": "code",
   "execution_count": 14,
   "metadata": {},
   "outputs": [],
   "source": [
    "df= pd.read_csv(\"transaction_requests.csv\")"
   ]
  },
  {
   "cell_type": "code",
   "execution_count": 15,
   "metadata": {},
   "outputs": [
    {
     "data": {
      "text/html": [
       "<div>\n",
       "<style scoped>\n",
       "    .dataframe tbody tr th:only-of-type {\n",
       "        vertical-align: middle;\n",
       "    }\n",
       "\n",
       "    .dataframe tbody tr th {\n",
       "        vertical-align: top;\n",
       "    }\n",
       "\n",
       "    .dataframe thead th {\n",
       "        text-align: right;\n",
       "    }\n",
       "</style>\n",
       "<table border=\"1\" class=\"dataframe\">\n",
       "  <thead>\n",
       "    <tr style=\"text-align: right;\">\n",
       "      <th></th>\n",
       "      <th>Unnamed: 0.1</th>\n",
       "      <th>Unnamed: 0</th>\n",
       "      <th>trans_date_trans_time</th>\n",
       "      <th>cc_num</th>\n",
       "      <th>merchant</th>\n",
       "      <th>category</th>\n",
       "      <th>amt</th>\n",
       "      <th>first</th>\n",
       "      <th>last</th>\n",
       "      <th>gender</th>\n",
       "      <th>...</th>\n",
       "      <th>zip</th>\n",
       "      <th>lat</th>\n",
       "      <th>long</th>\n",
       "      <th>city_pop</th>\n",
       "      <th>job</th>\n",
       "      <th>dob</th>\n",
       "      <th>trans_num</th>\n",
       "      <th>unix_time</th>\n",
       "      <th>merch_lat</th>\n",
       "      <th>merch_long</th>\n",
       "    </tr>\n",
       "  </thead>\n",
       "  <tbody>\n",
       "    <tr>\n",
       "      <th>0</th>\n",
       "      <td>330135</td>\n",
       "      <td>330135</td>\n",
       "      <td>2020-10-25 23:06:13</td>\n",
       "      <td>4883407061576</td>\n",
       "      <td>fraud_Kassulke PLC</td>\n",
       "      <td>shopping_net</td>\n",
       "      <td>974.36</td>\n",
       "      <td>Rachel</td>\n",
       "      <td>Williams</td>\n",
       "      <td>F</td>\n",
       "      <td>...</td>\n",
       "      <td>98118</td>\n",
       "      <td>47.5412</td>\n",
       "      <td>-122.2750</td>\n",
       "      <td>837792</td>\n",
       "      <td>Systems developer</td>\n",
       "      <td>1936-12-23</td>\n",
       "      <td>5cc92a8f0821a1fb075acce4e8b21ed4</td>\n",
       "      <td>1382742373</td>\n",
       "      <td>48.375593</td>\n",
       "      <td>-122.835090</td>\n",
       "    </tr>\n",
       "    <tr>\n",
       "      <th>1</th>\n",
       "      <td>118526</td>\n",
       "      <td>118526</td>\n",
       "      <td>2020-08-02 02:54:42</td>\n",
       "      <td>3577794103155425</td>\n",
       "      <td>fraud_Bradtke PLC</td>\n",
       "      <td>grocery_pos</td>\n",
       "      <td>348.61</td>\n",
       "      <td>Mary</td>\n",
       "      <td>Humphrey</td>\n",
       "      <td>F</td>\n",
       "      <td>...</td>\n",
       "      <td>58275</td>\n",
       "      <td>47.7068</td>\n",
       "      <td>-97.2092</td>\n",
       "      <td>733</td>\n",
       "      <td>Visual merchandiser</td>\n",
       "      <td>1994-11-12</td>\n",
       "      <td>3d90fb83a6a609f3d341a6f0867a9911</td>\n",
       "      <td>1375412082</td>\n",
       "      <td>47.442871</td>\n",
       "      <td>-96.809288</td>\n",
       "    </tr>\n",
       "    <tr>\n",
       "      <th>2</th>\n",
       "      <td>192525</td>\n",
       "      <td>192525</td>\n",
       "      <td>2020-08-27 22:48:50</td>\n",
       "      <td>6011104316292105</td>\n",
       "      <td>fraud_Gottlieb-Hansen</td>\n",
       "      <td>personal_care</td>\n",
       "      <td>20.91</td>\n",
       "      <td>Valerie</td>\n",
       "      <td>Davis</td>\n",
       "      <td>F</td>\n",
       "      <td>...</td>\n",
       "      <td>23937</td>\n",
       "      <td>36.9688</td>\n",
       "      <td>-78.5615</td>\n",
       "      <td>1970</td>\n",
       "      <td>Energy engineer</td>\n",
       "      <td>1985-09-02</td>\n",
       "      <td>c8cecac8950a88ac35853adb49bccd4d</td>\n",
       "      <td>1377643730</td>\n",
       "      <td>36.654786</td>\n",
       "      <td>-77.963935</td>\n",
       "    </tr>\n",
       "    <tr>\n",
       "      <th>3</th>\n",
       "      <td>111635</td>\n",
       "      <td>111635</td>\n",
       "      <td>2020-07-30 00:52:25</td>\n",
       "      <td>4352307151555405069</td>\n",
       "      <td>fraud_Luettgen PLC</td>\n",
       "      <td>gas_transport</td>\n",
       "      <td>7.84</td>\n",
       "      <td>Joseph</td>\n",
       "      <td>Bartlett</td>\n",
       "      <td>M</td>\n",
       "      <td>...</td>\n",
       "      <td>22046</td>\n",
       "      <td>38.8856</td>\n",
       "      <td>-77.1802</td>\n",
       "      <td>116155</td>\n",
       "      <td>Armed forces training and education officer</td>\n",
       "      <td>1932-05-09</td>\n",
       "      <td>7a4349b621986d6d52a1495c71ab55d6</td>\n",
       "      <td>1375145545</td>\n",
       "      <td>39.565925</td>\n",
       "      <td>-76.370043</td>\n",
       "    </tr>\n",
       "    <tr>\n",
       "      <th>4</th>\n",
       "      <td>105671</td>\n",
       "      <td>105671</td>\n",
       "      <td>2020-07-27 23:00:25</td>\n",
       "      <td>30290551782700</td>\n",
       "      <td>fraud_Macejkovic-Lesch</td>\n",
       "      <td>shopping_pos</td>\n",
       "      <td>951.91</td>\n",
       "      <td>John</td>\n",
       "      <td>Clarke</td>\n",
       "      <td>M</td>\n",
       "      <td>...</td>\n",
       "      <td>42211</td>\n",
       "      <td>36.8020</td>\n",
       "      <td>-87.8286</td>\n",
       "      <td>13422</td>\n",
       "      <td>Commissioning editor</td>\n",
       "      <td>1961-09-03</td>\n",
       "      <td>5cca047522e63683009555a5e15ebe6e</td>\n",
       "      <td>1374966025</td>\n",
       "      <td>36.833312</td>\n",
       "      <td>-86.948924</td>\n",
       "    </tr>\n",
       "  </tbody>\n",
       "</table>\n",
       "<p>5 rows × 23 columns</p>\n",
       "</div>"
      ],
      "text/plain": [
       "   Unnamed: 0.1  Unnamed: 0 trans_date_trans_time               cc_num  \\\n",
       "0        330135      330135   2020-10-25 23:06:13        4883407061576   \n",
       "1        118526      118526   2020-08-02 02:54:42     3577794103155425   \n",
       "2        192525      192525   2020-08-27 22:48:50     6011104316292105   \n",
       "3        111635      111635   2020-07-30 00:52:25  4352307151555405069   \n",
       "4        105671      105671   2020-07-27 23:00:25       30290551782700   \n",
       "\n",
       "                 merchant       category     amt    first      last gender  \\\n",
       "0      fraud_Kassulke PLC   shopping_net  974.36   Rachel  Williams      F   \n",
       "1       fraud_Bradtke PLC    grocery_pos  348.61     Mary  Humphrey      F   \n",
       "2   fraud_Gottlieb-Hansen  personal_care   20.91  Valerie     Davis      F   \n",
       "3      fraud_Luettgen PLC  gas_transport    7.84   Joseph  Bartlett      M   \n",
       "4  fraud_Macejkovic-Lesch   shopping_pos  951.91     John    Clarke      M   \n",
       "\n",
       "   ...    zip      lat      long  city_pop  \\\n",
       "0  ...  98118  47.5412 -122.2750    837792   \n",
       "1  ...  58275  47.7068  -97.2092       733   \n",
       "2  ...  23937  36.9688  -78.5615      1970   \n",
       "3  ...  22046  38.8856  -77.1802    116155   \n",
       "4  ...  42211  36.8020  -87.8286     13422   \n",
       "\n",
       "                                           job         dob  \\\n",
       "0                            Systems developer  1936-12-23   \n",
       "1                          Visual merchandiser  1994-11-12   \n",
       "2                              Energy engineer  1985-09-02   \n",
       "3  Armed forces training and education officer  1932-05-09   \n",
       "4                         Commissioning editor  1961-09-03   \n",
       "\n",
       "                          trans_num   unix_time  merch_lat  merch_long  \n",
       "0  5cc92a8f0821a1fb075acce4e8b21ed4  1382742373  48.375593 -122.835090  \n",
       "1  3d90fb83a6a609f3d341a6f0867a9911  1375412082  47.442871  -96.809288  \n",
       "2  c8cecac8950a88ac35853adb49bccd4d  1377643730  36.654786  -77.963935  \n",
       "3  7a4349b621986d6d52a1495c71ab55d6  1375145545  39.565925  -76.370043  \n",
       "4  5cca047522e63683009555a5e15ebe6e  1374966025  36.833312  -86.948924  \n",
       "\n",
       "[5 rows x 23 columns]"
      ]
     },
     "execution_count": 15,
     "metadata": {},
     "output_type": "execute_result"
    }
   ],
   "source": [
    "df.head()"
   ]
  },
  {
   "cell_type": "code",
   "execution_count": 16,
   "metadata": {
    "scrolled": true
   },
   "outputs": [
    {
     "ename": "KeyboardInterrupt",
     "evalue": "",
     "output_type": "error",
     "traceback": [
      "\u001b[0;31m---------------------------------------------------------------------------\u001b[0m",
      "\u001b[0;31mKeyboardInterrupt\u001b[0m                         Traceback (most recent call last)",
      "Cell \u001b[0;32mIn[16], line 4\u001b[0m\n\u001b[1;32m      2\u001b[0m     req \u001b[38;5;241m=\u001b[39m df\u001b[38;5;241m.\u001b[39msample(\u001b[38;5;241m1\u001b[39m)\u001b[38;5;241m.\u001b[39mto_dict(orient\u001b[38;5;241m=\u001b[39m\u001b[38;5;124m'\u001b[39m\u001b[38;5;124mrecords\u001b[39m\u001b[38;5;124m'\u001b[39m)[\u001b[38;5;241m0\u001b[39m]\n\u001b[1;32m      3\u001b[0m     producer\u001b[38;5;241m.\u001b[39msend(dumps(req)\u001b[38;5;241m.\u001b[39mencode(\u001b[38;5;124m'\u001b[39m\u001b[38;5;124mutf-8\u001b[39m\u001b[38;5;124m'\u001b[39m))\n\u001b[0;32m----> 4\u001b[0m     \u001b[43msleep\u001b[49m\u001b[43m(\u001b[49m\u001b[38;5;241;43m5\u001b[39;49m\u001b[43m)\u001b[49m\n\u001b[1;32m      5\u001b[0m client\u001b[38;5;241m.\u001b[39mclose()\n",
      "\u001b[0;31mKeyboardInterrupt\u001b[0m: "
     ]
    }
   ],
   "source": [
    "while True:\n",
    "    req = df.sample(1).to_dict(orient='records')[0]\n",
    "    producer.send(dumps(req).encode('utf-8'))\n",
    "    sleep(5)\n",
    "client.close()"
   ]
  },
  {
   "cell_type": "code",
   "execution_count": null,
   "metadata": {},
   "outputs": [],
   "source": []
  },
  {
   "cell_type": "code",
   "execution_count": null,
   "metadata": {},
   "outputs": [],
   "source": []
  }
 ],
 "metadata": {
  "kernelspec": {
   "display_name": "Python 3 (ipykernel)",
   "language": "python",
   "name": "python3"
  },
  "language_info": {
   "codemirror_mode": {
    "name": "ipython",
    "version": 3
   },
   "file_extension": ".py",
   "mimetype": "text/x-python",
   "name": "python",
   "nbconvert_exporter": "python",
   "pygments_lexer": "ipython3",
   "version": "3.8.10"
  }
 },
 "nbformat": 4,
 "nbformat_minor": 2
}
