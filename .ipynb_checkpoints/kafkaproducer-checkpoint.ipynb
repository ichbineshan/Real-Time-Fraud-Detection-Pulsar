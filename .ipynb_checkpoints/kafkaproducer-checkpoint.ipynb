{
 "cells": [
  {
   "cell_type": "code",
   "execution_count": 9,
   "metadata": {},
   "outputs": [
    {
     "name": "stdout",
     "output_type": "stream",
     "text": [
      "/home/josh/Documents/PULSAR Real Time Fraud Detection/env1 -- /home/josh/anaconda3\n"
     ]
    }
   ],
   "source": [
    "pip install kafka-python"
   ]
  },
  {
   "cell_type": "code",
   "execution_count": 6,
   "metadata": {},
   "outputs": [
    {
     "ename": "ModuleNotFoundError",
     "evalue": "No module named 'pandas'",
     "output_type": "error",
     "traceback": [
      "\u001b[0;31m---------------------------------------------------------------------------\u001b[0m",
      "\u001b[0;31mModuleNotFoundError\u001b[0m                       Traceback (most recent call last)",
      "\u001b[0;32m<ipython-input-6-60e90da6245d>\u001b[0m in \u001b[0;36m<module>\u001b[0;34m\u001b[0m\n\u001b[0;32m----> 1\u001b[0;31m \u001b[0;32mimport\u001b[0m \u001b[0mpandas\u001b[0m \u001b[0;32mas\u001b[0m \u001b[0mpd\u001b[0m\u001b[0;34m\u001b[0m\u001b[0m\n\u001b[0m\u001b[1;32m      2\u001b[0m \u001b[0;32mfrom\u001b[0m \u001b[0mkafka\u001b[0m \u001b[0;32mimport\u001b[0m \u001b[0mKafkaProducer\u001b[0m\u001b[0;34m\u001b[0m\u001b[0m\n\u001b[1;32m      3\u001b[0m \u001b[0;32mfrom\u001b[0m \u001b[0mtime\u001b[0m \u001b[0;32mimport\u001b[0m \u001b[0msleep\u001b[0m\u001b[0;34m\u001b[0m\u001b[0m\n\u001b[1;32m      4\u001b[0m \u001b[0;32mfrom\u001b[0m \u001b[0mjson\u001b[0m \u001b[0;32mimport\u001b[0m \u001b[0mdumps\u001b[0m\u001b[0;34m\u001b[0m\u001b[0m\n\u001b[1;32m      5\u001b[0m \u001b[0;32mimport\u001b[0m \u001b[0mjson\u001b[0m\u001b[0;34m\u001b[0m\u001b[0m\n",
      "\u001b[0;31mModuleNotFoundError\u001b[0m: No module named 'pandas'"
     ]
    }
   ],
   "source": [
    "import pandas as pd\n",
    "from kafka import KafkaProducer\n",
    "from time import sleep\n",
    "from json import dumps\n",
    "import json\n"
   ]
  },
  {
   "cell_type": "code",
   "execution_count": 181,
   "metadata": {},
   "outputs": [],
   "source": [
    "# value_serializer=lambda x: dumps(x).encode('utf-8')\n",
    "producer = KafkaProducer(bootstrap_servers=['43.204.143.162:9092'],value_serializer=lambda x: dumps(x).encode('utf-8'))"
   ]
  },
  {
   "cell_type": "code",
   "execution_count": 182,
   "metadata": {},
   "outputs": [
    {
     "data": {
      "text/plain": [
       "True"
      ]
     },
     "execution_count": 182,
     "metadata": {},
     "output_type": "execute_result"
    }
   ],
   "source": [
    "producer.bootstrap_connected()"
   ]
  },
  {
   "cell_type": "code",
   "execution_count": 183,
   "metadata": {},
   "outputs": [
    {
     "data": {
      "text/plain": [
       "<kafka.producer.future.FutureRecordMetadata at 0x7f2a67f19510>"
      ]
     },
     "execution_count": 183,
     "metadata": {},
     "output_type": "execute_result"
    }
   ],
   "source": [
    "data = {\n",
    "    'Unnamed': 330135,\n",
    "    'trans_date_trans_time': '2020-10-25 23:06:13',\n",
    "    'cc_num': 4883407061576,\n",
    "    'merchant': 'fraud_Kassulke PLC',\n",
    "    'category': 'shopping_net',\n",
    "    'amt': 974.36,\n",
    "    'first': 'Rachel',\n",
    "    'last': 'Williams',\n",
    "    'gender': 'F',\n",
    "    'street': '6386 Bailey Hill Apt. 421',\n",
    "    'city': 'Seattle',\n",
    "    'state': 'WA',\n",
    "    'zip': 98118,\n",
    "    'lat': 47.5412,\n",
    "    'long': -122.275,\n",
    "    'city_pop': 837792,\n",
    "    'job': 'Systems developer',\n",
    "    'dob': '1936-12-23',\n",
    "    'trans_num': '5cc92a8f0821a1fb075acce4e8b21ed4',\n",
    "    'unix_time': 1382742373,\n",
    "    'merch_lat': 48.375593,\n",
    "    'merch_long': -122.83509\n",
    "}\n",
    "producer.send('demo2',value=data)\n"
   ]
  },
  {
   "cell_type": "code",
   "execution_count": 1,
   "metadata": {},
   "outputs": [
    {
     "ename": "NameError",
     "evalue": "name 'pd' is not defined",
     "output_type": "error",
     "traceback": [
      "\u001b[0;31m---------------------------------------------------------------------------\u001b[0m",
      "\u001b[0;31mNameError\u001b[0m                                 Traceback (most recent call last)",
      "\u001b[0;32m<ipython-input-1-67b079e395c7>\u001b[0m in \u001b[0;36m<module>\u001b[0;34m\u001b[0m\n\u001b[0;32m----> 1\u001b[0;31m \u001b[0mdf\u001b[0m \u001b[0;34m=\u001b[0m \u001b[0mpd\u001b[0m\u001b[0;34m.\u001b[0m\u001b[0mread_csv\u001b[0m\u001b[0;34m(\u001b[0m\u001b[0;34m'transaction_requests.csv'\u001b[0m\u001b[0;34m)\u001b[0m\u001b[0;34m\u001b[0m\u001b[0m\n\u001b[0m",
      "\u001b[0;31mNameError\u001b[0m: name 'pd' is not defined"
     ]
    }
   ],
   "source": [
    "df = pd.read_csv('transaction_requests.csv')"
   ]
  },
  {
   "cell_type": "code",
   "execution_count": null,
   "metadata": {},
   "outputs": [
    {
     "data": {
      "text/html": [
       "<div>\n",
       "<style scoped>\n",
       "    .dataframe tbody tr th:only-of-type {\n",
       "        vertical-align: middle;\n",
       "    }\n",
       "\n",
       "    .dataframe tbody tr th {\n",
       "        vertical-align: top;\n",
       "    }\n",
       "\n",
       "    .dataframe thead th {\n",
       "        text-align: right;\n",
       "    }\n",
       "</style>\n",
       "<table border=\"1\" class=\"dataframe\">\n",
       "  <thead>\n",
       "    <tr style=\"text-align: right;\">\n",
       "      <th></th>\n",
       "      <th>Unnamed: 0.1</th>\n",
       "      <th>Unnamed: 0</th>\n",
       "      <th>trans_date_trans_time</th>\n",
       "      <th>cc_num</th>\n",
       "      <th>merchant</th>\n",
       "      <th>category</th>\n",
       "      <th>amt</th>\n",
       "      <th>first</th>\n",
       "      <th>last</th>\n",
       "      <th>gender</th>\n",
       "      <th>...</th>\n",
       "      <th>lat</th>\n",
       "      <th>long</th>\n",
       "      <th>city_pop</th>\n",
       "      <th>job</th>\n",
       "      <th>dob</th>\n",
       "      <th>trans_num</th>\n",
       "      <th>unix_time</th>\n",
       "      <th>merch_lat</th>\n",
       "      <th>merch_long</th>\n",
       "      <th>is_fraud</th>\n",
       "    </tr>\n",
       "  </thead>\n",
       "  <tbody>\n",
       "    <tr>\n",
       "      <th>0</th>\n",
       "      <td>330135</td>\n",
       "      <td>330135</td>\n",
       "      <td>2020-10-25 23:06:13</td>\n",
       "      <td>4883407061576</td>\n",
       "      <td>fraud_Kassulke PLC</td>\n",
       "      <td>shopping_net</td>\n",
       "      <td>974.36</td>\n",
       "      <td>Rachel</td>\n",
       "      <td>Williams</td>\n",
       "      <td>F</td>\n",
       "      <td>...</td>\n",
       "      <td>47.5412</td>\n",
       "      <td>-122.2750</td>\n",
       "      <td>837792</td>\n",
       "      <td>Systems developer</td>\n",
       "      <td>1936-12-23</td>\n",
       "      <td>5cc92a8f0821a1fb075acce4e8b21ed4</td>\n",
       "      <td>1382742373</td>\n",
       "      <td>48.375593</td>\n",
       "      <td>-122.835090</td>\n",
       "      <td>1</td>\n",
       "    </tr>\n",
       "    <tr>\n",
       "      <th>1</th>\n",
       "      <td>118526</td>\n",
       "      <td>118526</td>\n",
       "      <td>2020-08-02 02:54:42</td>\n",
       "      <td>3577794103155425</td>\n",
       "      <td>fraud_Bradtke PLC</td>\n",
       "      <td>grocery_pos</td>\n",
       "      <td>348.61</td>\n",
       "      <td>Mary</td>\n",
       "      <td>Humphrey</td>\n",
       "      <td>F</td>\n",
       "      <td>...</td>\n",
       "      <td>47.7068</td>\n",
       "      <td>-97.2092</td>\n",
       "      <td>733</td>\n",
       "      <td>Visual merchandiser</td>\n",
       "      <td>1994-11-12</td>\n",
       "      <td>3d90fb83a6a609f3d341a6f0867a9911</td>\n",
       "      <td>1375412082</td>\n",
       "      <td>47.442871</td>\n",
       "      <td>-96.809288</td>\n",
       "      <td>1</td>\n",
       "    </tr>\n",
       "    <tr>\n",
       "      <th>2</th>\n",
       "      <td>192525</td>\n",
       "      <td>192525</td>\n",
       "      <td>2020-08-27 22:48:50</td>\n",
       "      <td>6011104316292105</td>\n",
       "      <td>fraud_Gottlieb-Hansen</td>\n",
       "      <td>personal_care</td>\n",
       "      <td>20.91</td>\n",
       "      <td>Valerie</td>\n",
       "      <td>Davis</td>\n",
       "      <td>F</td>\n",
       "      <td>...</td>\n",
       "      <td>36.9688</td>\n",
       "      <td>-78.5615</td>\n",
       "      <td>1970</td>\n",
       "      <td>Energy engineer</td>\n",
       "      <td>1985-09-02</td>\n",
       "      <td>c8cecac8950a88ac35853adb49bccd4d</td>\n",
       "      <td>1377643730</td>\n",
       "      <td>36.654786</td>\n",
       "      <td>-77.963935</td>\n",
       "      <td>1</td>\n",
       "    </tr>\n",
       "    <tr>\n",
       "      <th>3</th>\n",
       "      <td>111635</td>\n",
       "      <td>111635</td>\n",
       "      <td>2020-07-30 00:52:25</td>\n",
       "      <td>4352307151555405069</td>\n",
       "      <td>fraud_Luettgen PLC</td>\n",
       "      <td>gas_transport</td>\n",
       "      <td>7.84</td>\n",
       "      <td>Joseph</td>\n",
       "      <td>Bartlett</td>\n",
       "      <td>M</td>\n",
       "      <td>...</td>\n",
       "      <td>38.8856</td>\n",
       "      <td>-77.1802</td>\n",
       "      <td>116155</td>\n",
       "      <td>Armed forces training and education officer</td>\n",
       "      <td>1932-05-09</td>\n",
       "      <td>7a4349b621986d6d52a1495c71ab55d6</td>\n",
       "      <td>1375145545</td>\n",
       "      <td>39.565925</td>\n",
       "      <td>-76.370043</td>\n",
       "      <td>1</td>\n",
       "    </tr>\n",
       "    <tr>\n",
       "      <th>4</th>\n",
       "      <td>105671</td>\n",
       "      <td>105671</td>\n",
       "      <td>2020-07-27 23:00:25</td>\n",
       "      <td>30290551782700</td>\n",
       "      <td>fraud_Macejkovic-Lesch</td>\n",
       "      <td>shopping_pos</td>\n",
       "      <td>951.91</td>\n",
       "      <td>John</td>\n",
       "      <td>Clarke</td>\n",
       "      <td>M</td>\n",
       "      <td>...</td>\n",
       "      <td>36.8020</td>\n",
       "      <td>-87.8286</td>\n",
       "      <td>13422</td>\n",
       "      <td>Commissioning editor</td>\n",
       "      <td>1961-09-03</td>\n",
       "      <td>5cca047522e63683009555a5e15ebe6e</td>\n",
       "      <td>1374966025</td>\n",
       "      <td>36.833312</td>\n",
       "      <td>-86.948924</td>\n",
       "      <td>1</td>\n",
       "    </tr>\n",
       "  </tbody>\n",
       "</table>\n",
       "<p>5 rows × 24 columns</p>\n",
       "</div>"
      ],
      "text/plain": [
       "   Unnamed: 0.1  Unnamed: 0 trans_date_trans_time               cc_num  \\\n",
       "0        330135      330135   2020-10-25 23:06:13        4883407061576   \n",
       "1        118526      118526   2020-08-02 02:54:42     3577794103155425   \n",
       "2        192525      192525   2020-08-27 22:48:50     6011104316292105   \n",
       "3        111635      111635   2020-07-30 00:52:25  4352307151555405069   \n",
       "4        105671      105671   2020-07-27 23:00:25       30290551782700   \n",
       "\n",
       "                 merchant       category     amt    first      last gender  \\\n",
       "0      fraud_Kassulke PLC   shopping_net  974.36   Rachel  Williams      F   \n",
       "1       fraud_Bradtke PLC    grocery_pos  348.61     Mary  Humphrey      F   \n",
       "2   fraud_Gottlieb-Hansen  personal_care   20.91  Valerie     Davis      F   \n",
       "3      fraud_Luettgen PLC  gas_transport    7.84   Joseph  Bartlett      M   \n",
       "4  fraud_Macejkovic-Lesch   shopping_pos  951.91     John    Clarke      M   \n",
       "\n",
       "   ...      lat      long city_pop  \\\n",
       "0  ...  47.5412 -122.2750   837792   \n",
       "1  ...  47.7068  -97.2092      733   \n",
       "2  ...  36.9688  -78.5615     1970   \n",
       "3  ...  38.8856  -77.1802   116155   \n",
       "4  ...  36.8020  -87.8286    13422   \n",
       "\n",
       "                                           job         dob  \\\n",
       "0                            Systems developer  1936-12-23   \n",
       "1                          Visual merchandiser  1994-11-12   \n",
       "2                              Energy engineer  1985-09-02   \n",
       "3  Armed forces training and education officer  1932-05-09   \n",
       "4                         Commissioning editor  1961-09-03   \n",
       "\n",
       "                          trans_num   unix_time  merch_lat  merch_long  \\\n",
       "0  5cc92a8f0821a1fb075acce4e8b21ed4  1382742373  48.375593 -122.835090   \n",
       "1  3d90fb83a6a609f3d341a6f0867a9911  1375412082  47.442871  -96.809288   \n",
       "2  c8cecac8950a88ac35853adb49bccd4d  1377643730  36.654786  -77.963935   \n",
       "3  7a4349b621986d6d52a1495c71ab55d6  1375145545  39.565925  -76.370043   \n",
       "4  5cca047522e63683009555a5e15ebe6e  1374966025  36.833312  -86.948924   \n",
       "\n",
       "  is_fraud  \n",
       "0        1  \n",
       "1        1  \n",
       "2        1  \n",
       "3        1  \n",
       "4        1  \n",
       "\n",
       "[5 rows x 24 columns]"
      ]
     },
     "execution_count": 171,
     "metadata": {},
     "output_type": "execute_result"
    }
   ],
   "source": [
    "df.head()"
   ]
  },
  {
   "cell_type": "code",
   "execution_count": 185,
   "metadata": {},
   "outputs": [
    {
     "ename": "KeyboardInterrupt",
     "evalue": "",
     "output_type": "error",
     "traceback": [
      "\u001b[0;31m---------------------------------------------------------------------------\u001b[0m",
      "\u001b[0;31mKeyboardInterrupt\u001b[0m                         Traceback (most recent call last)",
      "Cell \u001b[0;32mIn[185], line 4\u001b[0m\n\u001b[1;32m      2\u001b[0m row\u001b[39m=\u001b[39mdf\u001b[39m.\u001b[39msample(\u001b[39m1\u001b[39m)\u001b[39m.\u001b[39mto_dict(orient\u001b[39m=\u001b[39m\u001b[39m'\u001b[39m\u001b[39mrecords\u001b[39m\u001b[39m'\u001b[39m)[\u001b[39m0\u001b[39m]\n\u001b[1;32m      3\u001b[0m producer\u001b[39m.\u001b[39msend(\u001b[39m'\u001b[39m\u001b[39mdemo2\u001b[39m\u001b[39m'\u001b[39m,value\u001b[39m=\u001b[39mrow)\n\u001b[0;32m----> 4\u001b[0m sleep(\u001b[39m0.01\u001b[39;49m)\n",
      "\u001b[0;31mKeyboardInterrupt\u001b[0m: "
     ]
    }
   ],
   "source": [
    "while True:\n",
    "    row=df.sample(1).to_dict(orient='records')[0]\n",
    "    producer.send('demo2',value=row)\n",
    "    sleep(0.001)\n"
   ]
  },
  {
   "cell_type": "code",
   "execution_count": null,
   "metadata": {},
   "outputs": [],
   "source": [
    "# while True:\n",
    "#     row=df.sample(1).to_dict(orient='records')[0]\n",
    "#     producer.send('demo2',value=row)\n",
    "#     sleep(3)"
   ]
  }
 ],
 "metadata": {
  "kernelspec": {
   "display_name": "Python 3 (ipykernel)",
   "language": "python",
   "name": "python3"
  },
  "language_info": {
   "codemirror_mode": {
    "name": "ipython",
    "version": 3
   },
   "file_extension": ".py",
   "mimetype": "text/x-python",
   "name": "python",
   "nbconvert_exporter": "python",
   "pygments_lexer": "ipython3",
   "version": "3.8.10"
  }
 },
 "nbformat": 4,
 "nbformat_minor": 2
}
