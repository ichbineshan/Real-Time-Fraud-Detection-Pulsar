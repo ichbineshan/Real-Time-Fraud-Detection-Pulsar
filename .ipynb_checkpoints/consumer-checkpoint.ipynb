{
 "cells": [
  {
   "cell_type": "code",
   "execution_count": 2,
   "metadata": {},
   "outputs": [],
   "source": [
    "import json"
   ]
  },
  {
   "cell_type": "code",
   "execution_count": 3,
   "metadata": {},
   "outputs": [
    {
     "name": "stdout",
     "output_type": "stream",
     "text": [
      "2023-03-30 14:58:46.480 INFO  [140536568489792] Client:87 | Subscribing on Topic :transaction_requests\n",
      "2023-03-30 14:58:46.480 INFO  [140536568489792] ClientConnection:190 | [<none> -> pulsar://localhost:6650] Create ClientConnection, timeout=10000\n",
      "2023-03-30 14:58:46.480 INFO  [140536568489792] ConnectionPool:97 | Created connection for pulsar://localhost:6650\n",
      "2023-03-30 14:58:46.480 INFO  [140536050423552] ClientConnection:388 | [127.0.0.1:36424 -> 127.0.0.1:6650] Connected to broker\n",
      "2023-03-30 14:58:46.515 INFO  [140536050423552] HandlerBase:72 | [persistent://public/default/transaction_requests, my-subscription, 0] Getting connection from pool\n",
      "2023-03-30 14:58:46.520 INFO  [140536050423552] ConsumerImpl:238 | [persistent://public/default/transaction_requests, my-subscription, 0] Created consumer on broker [127.0.0.1:36424 -> 127.0.0.1:6650] \n",
      "{'Unnamed: 0.1': 184208, 'Unnamed: 0': 184208, 'trans_date_trans_time': '2020-08-24 20:07:05', 'cc_num': 3513618443244549, 'merchant': 'fraud_Windler, Goodwin and Kovacek', 'category': 'home', 'amt': 144.23, 'first': 'Amber', 'last': 'Perez', 'gender': 'F', 'street': '954 Reyes Ways', 'city': 'Fulton', 'state': 'SD', 'zip': 57340, 'lat': 43.7588, 'long': -97.8712, 'city_pop': 355, 'job': 'Financial adviser', 'dob': '1955-06-26', 'trans_num': 'ef8d40b434c4ea7f79afa17af641f9ae', 'unix_time': 1377374825, 'merch_lat': 44.686845, 'merch_long': -97.670319}\n",
      "{'Unnamed: 0.1': 350256, 'Unnamed: 0': 350256, 'trans_date_trans_time': '2020-11-03 08:35:56', 'cc_num': 4839615922685395, 'merchant': 'fraud_Stracke-Lemke', 'category': 'grocery_pos', 'amt': 105.75, 'first': 'Phillip', 'last': 'Robertson', 'gender': 'M', 'street': '85344 Smith Gateway Apt. 280', 'city': 'Harrodsburg', 'state': 'IN', 'zip': 47434, 'lat': 39.013000000000005, 'long': -86.5457, 'city_pop': 76, 'job': 'Social researcher', 'dob': '1955-05-06', 'trans_num': 'cab88b0dfa20ab9404f0dd402fab4c82', 'unix_time': 1383467756, 'merch_lat': 38.134262, 'merch_long': -87.095221}\n",
      "{'Unnamed: 0.1': 9339, 'Unnamed: 0': 9339, 'trans_date_trans_time': '2020-06-23 20:31:24', 'cc_num': 4060579726528237, 'merchant': 'fraud_Swaniawski, Nitzsche and Welch', 'category': 'health_fitness', 'amt': 74.38, 'first': 'Steven', 'last': 'Sanders', 'gender': 'M', 'street': '25955 Amy Via', 'city': 'Ozawkie', 'state': 'KS', 'zip': 66070, 'lat': 39.2136, 'long': -95.4404, 'city_pop': 2661, 'job': 'Theatre director', 'dob': '1948-11-14', 'trans_num': 'c3b9de131dbdc2e089b4904104947ce3', 'unix_time': 1372019484, 'merch_lat': 38.892486, 'merch_long': -95.943586}\n",
      "{'Unnamed: 0.1': 485127, 'Unnamed: 0': 485127, 'trans_date_trans_time': '2020-12-15 21:33:16', 'cc_num': 3590736522064285, 'merchant': 'fraud_Deckow-Dare', 'category': 'food_dining', 'amt': 69.18, 'first': 'Kimberly', 'last': 'Gonzalez', 'gender': 'F', 'street': '72966 Shannon Pass Apt. 391', 'city': 'Bauxite', 'state': 'AR', 'zip': 72011, 'lat': 34.5091, 'long': -92.4828, 'city_pop': 4074, 'job': 'Scientist, audiological', 'dob': '1975-12-20', 'trans_num': 'bc278b49b8ec9b1aa31b9d199de853df', 'unix_time': 1387143196, 'merch_lat': 33.63983, 'merch_long': -92.245217}\n",
      "{'Unnamed: 0.1': 194805, 'Unnamed: 0': 194805, 'trans_date_trans_time': '2020-08-28 22:46:50', 'cc_num': 30143535920989, 'merchant': 'fraud_Jacobi and Sons', 'category': 'shopping_pos', 'amt': 9.4, 'first': 'Lisa', 'last': 'Collins', 'gender': 'F', 'street': '44197 Jeffrey Port Suite 050', 'city': 'Bridgeport', 'state': 'NJ', 'zip': 8014, 'lat': 39.8016, 'long': -75.3478, 'city_pop': 504, 'job': 'Engineer, control and instrumentation', 'dob': '1980-08-17', 'trans_num': '9100fb50d5da4116ebcc0bdca4f6cefe', 'unix_time': 1377730010, 'merch_lat': 39.800925, 'merch_long': -75.212905}\n",
      "{'Unnamed: 0.1': 313956, 'Unnamed: 0': 313956, 'trans_date_trans_time': '2020-10-18 21:01:43', 'cc_num': 3565423334076143, 'merchant': 'fraud_Ankunding-Carroll', 'category': 'travel', 'amt': 1.99, 'first': 'Nathan', 'last': 'Thomas', 'gender': 'M', 'street': '4923 Campbell Pines Suite 717', 'city': 'Carlisle', 'state': 'IN', 'zip': 47838, 'lat': 38.9763, 'long': -87.3667, 'city_pop': 4081, 'job': 'Energy engineer', 'dob': '1938-03-15', 'trans_num': '186bf443761d0e654195e00a3f18a71c', 'unix_time': 1382130103, 'merch_lat': 39.491579, 'merch_long': -86.422402}\n",
      "{'Unnamed: 0.1': 380636, 'Unnamed: 0': 380636, 'trans_date_trans_time': '2020-11-16 19:30:33', 'cc_num': 2291163933867244, 'merchant': 'fraud_Koss, Hansen and Lueilwitz', 'category': 'home', 'amt': 33.5, 'first': 'Jeff', 'last': 'Elliott', 'gender': 'M', 'street': '351 Darlene Green', 'city': 'Columbia', 'state': 'SC', 'zip': 29209, 'lat': 33.9659, 'long': -80.9355, 'city_pop': 333497, 'job': 'Mechanical engineer', 'dob': '1968-03-19', 'trans_num': '9aa4707a39d6d86fbebf99a6192c1ad2', 'unix_time': 1384630233, 'merch_lat': 34.493194, 'merch_long': -80.976828}\n",
      "{'Unnamed: 0.1': 204679, 'Unnamed: 0': 204679, 'trans_date_trans_time': '2020-09-01 00:09:07', 'cc_num': 2256234701263057, 'merchant': 'fraud_Heller-Langosh', 'category': 'gas_transport', 'amt': 74.77, 'first': 'Christopher', 'last': 'Grimes', 'gender': 'M', 'street': '39631 Dunn Radial', 'city': 'Grantham', 'state': 'NH', 'zip': 3753, 'lat': 43.5103, 'long': -72.1334, 'city_pop': 2971, 'job': 'Charity fundraiser', 'dob': '1948-04-11', 'trans_num': 'bf6246846ab68ea5f28ff9d269c52e6f', 'unix_time': 1377994147, 'merch_lat': 43.329335, 'merch_long': -71.845642}\n",
      "{'Unnamed: 0.1': 523243, 'Unnamed: 0': 523243, 'trans_date_trans_time': '2020-12-24 19:18:07', 'cc_num': 2291163933867244, 'merchant': 'fraud_Mueller, Gerhold and Mueller', 'category': 'health_fitness', 'amt': 22.05, 'first': 'Jeff', 'last': 'Elliott', 'gender': 'M', 'street': '351 Darlene Green', 'city': 'Columbia', 'state': 'SC', 'zip': 29209, 'lat': 33.9659, 'long': -80.9355, 'city_pop': 333497, 'job': 'Mechanical engineer', 'dob': '1968-03-19', 'trans_num': '8ea54b67dae2be6acf34392fc851783a', 'unix_time': 1387912687, 'merch_lat': 33.84725, 'merch_long': -81.046964}\n",
      "{'Unnamed: 0.1': 518535, 'Unnamed: 0': 518535, 'trans_date_trans_time': '2020-12-23 07:00:27', 'cc_num': 4990494243023, 'merchant': 'fraud_Kerluke-Abshire', 'category': 'shopping_net', 'amt': 138.66, 'first': 'Martin', 'last': 'Ford', 'gender': 'M', 'street': '56812 Francis Courts', 'city': 'Corriganville', 'state': 'MD', 'zip': 21524, 'lat': 39.6967, 'long': -78.8031, 'city_pop': 626, 'job': 'Energy engineer', 'dob': '1960-12-13', 'trans_num': '36b006f4b443b86a8b89ed2986cc5362', 'unix_time': 1387782027, 'merch_lat': 40.103791, 'merch_long': -78.667214}\n",
      "{'Unnamed: 0.1': 194266, 'Unnamed: 0': 194266, 'trans_date_trans_time': '2020-08-28 17:48:00', 'cc_num': 3582754887089201, 'merchant': 'fraud_Barton LLC', 'category': 'kids_pets', 'amt': 8.27, 'first': 'Terrance', 'last': 'Mckinney', 'gender': 'M', 'street': '42965 Christopher Fords Suite 659', 'city': 'Norman', 'state': 'AR', 'zip': 71960, 'lat': 34.4596, 'long': -93.6743, 'city_pop': 1383, 'job': 'Magazine features editor', 'dob': '1966-08-08', 'trans_num': '6952e4ca18c174676f71ea7c8be792de', 'unix_time': 1377712080, 'merch_lat': 33.576028, 'merch_long': -93.118853}\n",
      "{'Unnamed: 0.1': 97324, 'Unnamed: 0': 97324, 'trans_date_trans_time': '2020-07-25 14:10:21', 'cc_num': 4681699462969, 'merchant': 'fraud_Adams-Barrows', 'category': 'health_fitness', 'amt': 64.3, 'first': 'Joseph', 'last': 'Gonzalez', 'gender': 'M', 'street': '319 Wendy Fort Suite 179', 'city': 'Murfreesboro', 'state': 'TN', 'zip': 37132, 'lat': 35.8596, 'long': -86.421, 'city_pop': 158701, 'job': 'Journalist, newspaper', 'dob': '1978-03-06', 'trans_num': 'c626295d5ebf16e73075d1df73dc259f', 'unix_time': 1374761421, 'merch_lat': 35.744726, 'merch_long': -85.749299}\n",
      "{'Unnamed: 0.1': 177190, 'Unnamed: 0': 177190, 'trans_date_trans_time': '2020-08-22 20:04:53', 'cc_num': 639095706599, 'merchant': 'fraud_Johns Inc', 'category': 'entertainment', 'amt': 20.72, 'first': 'Kyle', 'last': 'Wilkinson', 'gender': 'M', 'street': '93970 Trujillo Causeway', 'city': 'Curlew', 'state': 'IA', 'zip': 50527, 'lat': 42.9633, 'long': -94.7975, 'city_pop': 223, 'job': 'Estate manager/land agent', 'dob': '1939-04-14', 'trans_num': 'e019137cbe9e432b8a8e8a8aab3dd618', 'unix_time': 1377201893, 'merch_lat': 42.687499, 'merch_long': -94.423874}\n"
     ]
    },
    {
     "name": "stdout",
     "output_type": "stream",
     "text": [
      "{'Unnamed: 0.1': 59527, 'Unnamed: 0': 59527, 'trans_date_trans_time': '2020-07-12 06:31:08', 'cc_num': 4586260469584, 'merchant': 'fraud_Corwin-Collins', 'category': 'gas_transport', 'amt': 51.18, 'first': 'Melody', 'last': 'Thompson', 'gender': 'F', 'street': '0362 Anderson Wall', 'city': 'Mound City', 'state': 'MO', 'zip': 64470, 'lat': 40.1362, 'long': -95.2138, 'city_pop': 1631, 'job': 'Architect', 'dob': '1953-01-20', 'trans_num': 'fd1d64c25299820cc1d2b4d7f089b5c1', 'unix_time': 1373610668, 'merch_lat': 40.667316, 'merch_long': -95.359347}\n",
      "{'Unnamed: 0.1': 330212, 'Unnamed: 0': 330212, 'trans_date_trans_time': '2020-10-25 23:38:36', 'cc_num': 180046617132290, 'merchant': 'fraud_Dooley-Thompson', 'category': 'misc_net', 'amt': 769.5, 'first': 'Erika', 'last': 'Mason', 'gender': 'F', 'street': '083 Karen Island Apt. 656', 'city': 'Goreville', 'state': 'IL', 'zip': 62939, 'lat': 37.575, 'long': -88.9655, 'city_pop': 3119, 'job': 'Teacher, secondary school', 'dob': '1942-04-17', 'trans_num': 'a691a4548fd4ae481799c6d85a4868a3', 'unix_time': 1382744316, 'merch_lat': 36.848919, 'merch_long': -88.333125}\n",
      "{'Unnamed: 0.1': 284199, 'Unnamed: 0': 284199, 'trans_date_trans_time': '2020-10-05 14:57:29', 'cc_num': 2297447006766555, 'merchant': 'fraud_Labadie, Treutel and Bode', 'category': 'shopping_net', 'amt': 1061.02, 'first': 'Laura', 'last': 'Walker', 'gender': 'F', 'street': '611 Michael Rue', 'city': 'Cisco', 'state': 'IL', 'zip': 61830, 'lat': 39.9972, 'long': -88.6962, 'city_pop': 478, 'job': 'Landscape architect', 'dob': '1960-01-13', 'trans_num': 'd30b35aead858500dbe684300ade3570', 'unix_time': 1380985049, 'merch_lat': 40.009271000000005, 'merch_long': -87.856606}\n",
      "{'Unnamed: 0.1': 538702, 'Unnamed: 0': 538702, 'trans_date_trans_time': '2020-12-28 09:21:48', 'cc_num': 4482427013979020, 'merchant': 'fraud_Welch Inc', 'category': 'misc_net', 'amt': 8.75, 'first': 'Leslie', 'last': 'Ford', 'gender': 'F', 'street': '4938 Hatfield Course', 'city': 'Henderson', 'state': 'WV', 'zip': 25106, 'lat': 38.8265, 'long': -82.1364, 'city_pop': 642, 'job': 'Building services engineer', 'dob': '1946-08-30', 'trans_num': '170c25d149313cf370d26ac208a419d6', 'unix_time': 1388222508, 'merch_lat': 39.54402, 'merch_long': -81.965482}\n"
     ]
    },
    {
     "ename": "Interrupted",
     "evalue": "Pulsar error: ResultInterrupted",
     "output_type": "error",
     "traceback": [
      "\u001b[0;31m---------------------------------------------------------------------------\u001b[0m",
      "\u001b[0;31mInterrupted\u001b[0m                               Traceback (most recent call last)",
      "Cell \u001b[0;32mIn[3], line 8\u001b[0m\n\u001b[1;32m      5\u001b[0m consumer \u001b[38;5;241m=\u001b[39m client\u001b[38;5;241m.\u001b[39msubscribe(\u001b[38;5;124m'\u001b[39m\u001b[38;5;124mtransaction_requests\u001b[39m\u001b[38;5;124m'\u001b[39m, \u001b[38;5;124m'\u001b[39m\u001b[38;5;124mmy-subscription\u001b[39m\u001b[38;5;124m'\u001b[39m)\n\u001b[1;32m      7\u001b[0m \u001b[38;5;28;01mwhile\u001b[39;00m \u001b[38;5;28;01mTrue\u001b[39;00m:\n\u001b[0;32m----> 8\u001b[0m     msg \u001b[38;5;241m=\u001b[39m \u001b[43mconsumer\u001b[49m\u001b[38;5;241;43m.\u001b[39;49m\u001b[43mreceive\u001b[49m\u001b[43m(\u001b[49m\u001b[43m)\u001b[49m\n\u001b[1;32m      9\u001b[0m     \u001b[38;5;28;01mtry\u001b[39;00m:\n\u001b[1;32m     10\u001b[0m         data \u001b[38;5;241m=\u001b[39m json\u001b[38;5;241m.\u001b[39mloads(msg\u001b[38;5;241m.\u001b[39mdata()\u001b[38;5;241m.\u001b[39mdecode(\u001b[38;5;124m'\u001b[39m\u001b[38;5;124mutf-8\u001b[39m\u001b[38;5;124m'\u001b[39m))\n",
      "File \u001b[0;32m~/.local/lib/python3.8/site-packages/pulsar/__init__.py:1243\u001b[0m, in \u001b[0;36mConsumer.receive\u001b[0;34m(self, timeout_millis)\u001b[0m\n\u001b[1;32m   1230\u001b[0m \u001b[38;5;250m\u001b[39m\u001b[38;5;124;03m\"\"\"\u001b[39;00m\n\u001b[1;32m   1231\u001b[0m \u001b[38;5;124;03mReceive a single message.\u001b[39;00m\n\u001b[1;32m   1232\u001b[0m \n\u001b[0;32m   (...)\u001b[0m\n\u001b[1;32m   1240\u001b[0m \u001b[38;5;124;03m    If specified, the receiver will raise an exception if a message is not available within the timeout.\u001b[39;00m\n\u001b[1;32m   1241\u001b[0m \u001b[38;5;124;03m\"\"\"\u001b[39;00m\n\u001b[1;32m   1242\u001b[0m \u001b[38;5;28;01mif\u001b[39;00m timeout_millis \u001b[38;5;129;01mis\u001b[39;00m \u001b[38;5;28;01mNone\u001b[39;00m:\n\u001b[0;32m-> 1243\u001b[0m     msg \u001b[38;5;241m=\u001b[39m \u001b[38;5;28;43mself\u001b[39;49m\u001b[38;5;241;43m.\u001b[39;49m\u001b[43m_consumer\u001b[49m\u001b[38;5;241;43m.\u001b[39;49m\u001b[43mreceive\u001b[49m\u001b[43m(\u001b[49m\u001b[43m)\u001b[49m\n\u001b[1;32m   1244\u001b[0m \u001b[38;5;28;01melse\u001b[39;00m:\n\u001b[1;32m   1245\u001b[0m     _check_type(\u001b[38;5;28mint\u001b[39m, timeout_millis, \u001b[38;5;124m'\u001b[39m\u001b[38;5;124mtimeout_millis\u001b[39m\u001b[38;5;124m'\u001b[39m)\n",
      "\u001b[0;31mInterrupted\u001b[0m: Pulsar error: ResultInterrupted"
     ]
    }
   ],
   "source": [
    "import pulsar\n",
    "\n",
    "client = pulsar.Client('pulsar://localhost:6650')\n",
    "\n",
    "consumer = client.subscribe('transaction_requests', 'my-subscription')\n",
    "\n",
    "while True:\n",
    "    msg = consumer.receive()\n",
    "    try:\n",
    "        data = json.loads(msg.data().decode('utf-8'))\n",
    "        print(data)\n",
    "        consumer.acknowledge(msg)\n",
    "    except Exception:\n",
    "        # Message failed to be processed\n",
    "        consumer.negative_acknowledge(msg)\n",
    "\n",
    "client.close()"
   ]
  },
  {
   "cell_type": "code",
   "execution_count": null,
   "metadata": {},
   "outputs": [],
   "source": []
  }
 ],
 "metadata": {
  "kernelspec": {
   "display_name": "Python 3 (ipykernel)",
   "language": "python",
   "name": "python3"
  },
  "language_info": {
   "codemirror_mode": {
    "name": "ipython",
    "version": 3
   },
   "file_extension": ".py",
   "mimetype": "text/x-python",
   "name": "python",
   "nbconvert_exporter": "python",
   "pygments_lexer": "ipython3",
   "version": "3.8.10"
  }
 },
 "nbformat": 4,
 "nbformat_minor": 2
}
